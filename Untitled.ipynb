{
 "cells": [
  {
   "cell_type": "code",
   "execution_count": 2,
   "id": "e5fb2599",
   "metadata": {},
   "outputs": [
    {
     "name": "stdout",
     "output_type": "stream",
     "text": [
      "hi freinds\n"
     ]
    }
   ],
   "source": [
    "print(\"hi freinds\")"
   ]
  },
  {
   "cell_type": "code",
   "execution_count": 3,
   "id": "cf6c0270",
   "metadata": {},
   "outputs": [
    {
     "data": {
      "text/plain": [
       "13"
      ]
     },
     "execution_count": 3,
     "metadata": {},
     "output_type": "execute_result"
    }
   ],
   "source": [
    "3+10\n"
   ]
  },
  {
   "cell_type": "code",
   "execution_count": 5,
   "id": "5a606215",
   "metadata": {},
   "outputs": [
    {
     "name": "stdout",
     "output_type": "stream",
     "text": [
      "73\n"
     ]
    }
   ],
   "source": [
    "a=3\n",
    "b=70\n",
    "print(a+b)"
   ]
  },
  {
   "cell_type": "code",
   "execution_count": 8,
   "id": "7a579101",
   "metadata": {},
   "outputs": [
    {
     "name": "stdout",
     "output_type": "stream",
     "text": [
      "3675\n"
     ]
    }
   ],
   "source": [
    "a=100\n",
    "b=275\n",
    "c=34\n",
    "print(a*c+b)"
   ]
  },
  {
   "cell_type": "markdown",
   "id": "1f41150e",
   "metadata": {},
   "source": [
    "# I'm exhausted\n",
    "## please\n",
    "### send help"
   ]
  },
  {
   "cell_type": "markdown",
   "id": "3d085d27",
   "metadata": {},
   "source": [
    "#### pls"
   ]
  },
  {
   "cell_type": "markdown",
   "id": "f692d645",
   "metadata": {},
   "source": [
    "> i do not know what I am doing (-:"
   ]
  },
  {
   "cell_type": "markdown",
   "id": "33f2d861",
   "metadata": {},
   "source": [
    "* bulleted list"
   ]
  },
  {
   "cell_type": "markdown",
   "id": "d782e69f",
   "metadata": {},
   "source": [
    "1. ordered list\n",
    "2. with numbers"
   ]
  },
  {
   "cell_type": "markdown",
   "id": "d9ef9bfa",
   "metadata": {},
   "source": [
    "**BOLD**\n",
    "*italics*"
   ]
  },
  {
   "cell_type": "markdown",
   "id": "bd485bac",
   "metadata": {},
   "source": [
    "<a href=\"https://github.com/\">this link</a>"
   ]
  },
  {
   "attachments": {},
   "cell_type": "markdown",
   "id": "b14f5a0b",
   "metadata": {},
   "source": [
    "![Python Logo](https://i.guim.co.uk/img/media/fe1e34da640c5c56ed16f76ce6f994fa9343d09d/0_174_3408_2046/master/3408.jpg?width=1200&height=900&quality=85&auto=format&fit=crop&s=0d3f33fb6aa6e0154b7713a00454c83d)\n",
    "![image.png](![image-2.png](attachment:image-2.png))"
   ]
  },
  {
   "cell_type": "code",
   "execution_count": null,
   "id": "6aad67f0",
   "metadata": {},
   "outputs": [],
   "source": []
  }
 ],
 "metadata": {
  "kernelspec": {
   "display_name": "Python 3",
   "language": "python",
   "name": "python3"
  },
  "language_info": {
   "codemirror_mode": {
    "name": "ipython",
    "version": 3
   },
   "file_extension": ".py",
   "mimetype": "text/x-python",
   "name": "python",
   "nbconvert_exporter": "python",
   "pygments_lexer": "ipython3",
   "version": "3.8.8"
  }
 },
 "nbformat": 4,
 "nbformat_minor": 5
}
